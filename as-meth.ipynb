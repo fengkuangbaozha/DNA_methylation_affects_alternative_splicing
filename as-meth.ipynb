{
 "metadata": {
  "name": "",
  "signature": "sha256:29dffbf95f12b51f9acf9d427be323a840cd2042212df38cbfa472110079c14d"
 },
 "nbformat": 3,
 "nbformat_minor": 0,
 "worksheets": [
  {
   "cells": [
    {
     "cell_type": "heading",
     "level": 1,
     "metadata": {},
     "source": [
      "DNA methylation affects alternative splicing in Arabidopsis."
     ]
    },
    {
     "cell_type": "heading",
     "level": 4,
     "metadata": {},
     "source": [
      "Abstract: Recent studies in animals and plants have shown that gene-body methylation plays a major role in alternative splicing (AS) regulation. However, limited information is currently available regarding whether and to what extent DNA methylation may affect AS in Arabidopsis. We used Arabidopsis ecotype Columbia, C24 and C24 PolV knockout mutant which resulted in genome-wide DNA methylation loss. Transcriptome (RNA-seq) data of WT and mutant were analyzed with Spanki to identify differentially alternative splicing (DAS) events. Single-base resolution methylome (BS-seq) data of WT and mutant were analyzed with BSMAP to identify differentially methylated sites and regions (DM). Then we correlated DAS events with DM regions to identify DNA methylation effects on AS changes. This study provides a robust resource to assay the genome-wide impact of cytosine methylation on AS changes in Arabidopsis.  "
     ]
    },
    {
     "cell_type": "heading",
     "level": 4,
     "metadata": {},
     "source": [
      "Pipeline: Firstly, we performed alternative splicing analysis using Col0, C24 and C24 PolV mutant (P24) RNA-seq data. Secondly, we performed DNA methylation analysis using Col0, C24 and C24 PolV mutant (P24) BS-seq data. Thirdly, we explored the effects of DNA methylation on alternative splicing."
     ]
    },
    {
     "cell_type": "heading",
     "level": 2,
     "metadata": {},
     "source": [
      "Part One. Alternative splicing (AS) analysis"
     ]
    },
    {
     "cell_type": "heading",
     "level": 3,
     "metadata": {},
     "source": [
      "Firstly, we identified junctions in Col0, C24 and C24 PolV mutant (P24) with spanki-junc."
     ]
    },
    {
     "cell_type": "code",
     "collapsed": false,
     "input": [
      "#!qsub -t 1-3 script/spanki.sh /psc/bioinformatics/zhaocheng/My_project/ZQZ_BS_AS/tmp_data/Col_rep ~/sunyd/as-meth/process ~/sunyd/genome/arabidopsis_thaliana/zath_TAIR10.gtf\n",
      "#!qsub -t 1-3 script/spanki.sh /psc/bioinformatics/zhaocheng/My_project/ZQZ_BS_AS/tmp_data/C24_rep ~/sunyd/as-meth/process ~/sunyd/genome/arabidopsis_thaliana/zath_TAIR10.gtf\n",
      "#!qsub -t 1-3 script/spanki.sh /psc/bioinformatics/zhaocheng/My_project/ZQZ_BS_AS/tmp_data/P24_rep ~/sunyd/as-meth/process ~/sunyd/genome/arabidopsis_thaliana/zath_TAIR10.gtf"
     ],
     "language": "python",
     "metadata": {},
     "outputs": [],
     "prompt_number": 1
    },
    {
     "cell_type": "heading",
     "level": 3,
     "metadata": {},
     "source": [
      "Secondly, we identified AS events with spankisplice."
     ]
    },
    {
     "cell_type": "code",
     "collapsed": false,
     "input": [
      "#!~/tool/astalavista-3.2/bin/astalavista -t asta -i ~/sunyd/genome/arabidopsis_thaliana/zath_TAIR10.gtf -e [ASE,ASI]\n",
      "#!bash ~/sunyd/as-meth/bin/as-finder-step2.sh ~/sunyd/as-meth Col col\n",
      "#!bash ~/sunyd/as-meth/bin/as-finder-step2.sh ~/sunyd/as-meth P24 nrpe\n",
      "#!bash ~/sunyd/as-meth/bin/as-finder-step2.sh ~/sunyd/as-meth C24 c24"
     ],
     "language": "python",
     "metadata": {},
     "outputs": [],
     "prompt_number": 2
    },
    {
     "cell_type": "heading",
     "level": 3,
     "metadata": {},
     "source": [
      "Thirdly, we compared junctions and AS events with junccomp and splicecomp."
     ]
    },
    {
     "cell_type": "code",
     "collapsed": false,
     "input": [
      "#!bash ~/sunyd/as-meth/bin/as-compare-step3.sh ~/sunyd/as-meth Col P24\n",
      "#!bash ~/sunyd/as-meth/bin/as-compare-step3.sh ~/sunyd/as-meth Col C24\n",
      "#!bash ~/sunyd/as-meth/bin/as-compare-step3.sh ~/sunyd/as-meth C24 P24"
     ],
     "language": "python",
     "metadata": {},
     "outputs": [],
     "prompt_number": 3
    },
    {
     "cell_type": "heading",
     "level": 2,
     "metadata": {},
     "source": [
      "Part Two. DNA methylation analysis"
     ]
    },
    {
     "cell_type": "heading",
     "level": 3,
     "metadata": {},
     "source": [
      "Firstly, we identified DNA methylation level with BSMAP."
     ]
    },
    {
     "cell_type": "code",
     "collapsed": false,
     "input": [
      "#!qsub -t 1-4 bin/BSMAP.bash"
     ],
     "language": "python",
     "metadata": {},
     "outputs": [],
     "prompt_number": 4
    },
    {
     "cell_type": "heading",
     "level": 3,
     "metadata": {},
     "source": [
      "Secondly, we displayed the DNA methylation level with wig file."
     ]
    },
    {
     "cell_type": "code",
     "collapsed": false,
     "input": [
      "#!bash bin/WIG_make.bash"
     ],
     "language": "python",
     "metadata": {},
     "outputs": [],
     "prompt_number": 5
    },
    {
     "cell_type": "heading",
     "level": 3,
     "metadata": {},
     "source": [
      "Thirdly, we identified differential DNA methylation region and sites between wildtype and mutant."
     ]
    },
    {
     "cell_type": "code",
     "collapsed": false,
     "input": [
      "#!bash bin/wtVSvar2_DMC_DMR_driver.bash col P24\n",
      "#!bash bin/wtVSvar2_DMC_DMR_driver.bash col C24\n",
      "#!bash bin/wtVSvar2_DMC_DMR_driver.bash C24 P24\n",
      "#!for i in *_VS_*/CX_DMR_Hyper.step11; do bedtools intersect -a <(awk '{OFS=\"\\t\"; print $0,\".\",\".\",\".\",\"name\"}' $i) -b <(sed 's/^/Chr/g' ~/sunyd/genome/arabidopsis_thaliana/ath_TAIR10.TE.bed) -wa -wb |cut -f1-3 |sort -u |wc; done   ####check results"
     ],
     "language": "python",
     "metadata": {},
     "outputs": [],
     "prompt_number": 7
    },
    {
     "cell_type": "heading",
     "level": 2,
     "metadata": {},
     "source": [
      "Part Three. Exploring the effects of DNA methylation on AS"
     ]
    },
    {
     "cell_type": "heading",
     "level": 3,
     "metadata": {},
     "source": [
      "Firstly, we characterized differentially expressed (DE) genes, differentially alternative splicing (DAS) genes and differentially methylated (DM) genes."
     ]
    },
    {
     "cell_type": "code",
     "collapsed": false,
     "input": [
      "#!bash ~/sunyd/as-meth/bin/as-statistical-step4.sh ~/sunyd/as-meth/process"
     ],
     "language": "python",
     "metadata": {},
     "outputs": [],
     "prompt_number": 8
    },
    {
     "cell_type": "heading",
     "level": 3,
     "metadata": {},
     "source": [
      "Secondly, we try to confirm that change of cytosine methylation have directly affected AS. (1) Correlation among differential spliced junctions (DSJs), DAS and DM; (2) methylation level comparison between exon and intron in junctions; (3) the relationship between methylation level and splicing efficiency. We are still working on this step."
     ]
    },
    {
     "cell_type": "heading",
     "level": 3,
     "metadata": {},
     "source": [
      "Notice: our partner is responsible for the RNA-seq and BS-seq sequencing and following experimental validation."
     ]
    }
   ],
   "metadata": {}
  }
 ]
}